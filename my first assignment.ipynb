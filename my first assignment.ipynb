{
 "cells": [
  {
   "cell_type": "code",
   "execution_count": 1,
   "id": "3b0dbf1c-5e9f-4253-992a-8231572db874",
   "metadata": {},
   "outputs": [],
   "source": [
    "#hello world"
   ]
  },
  {
   "cell_type": "code",
   "execution_count": 2,
   "id": "c8d72868-7dec-4262-9d0a-1e0ddf04709b",
   "metadata": {},
   "outputs": [],
   "source": [
    "#the key features of python which make popular choice while programming"
   ]
  },
  {
   "cell_type": "code",
   "execution_count": 5,
   "id": "51a58f3a-cfd3-4cd2-a71a-df8984c81c29",
   "metadata": {},
   "outputs": [],
   "source": [
    "#true\n",
    "#false\n",
    "#int\n",
    "#else"
   ]
  },
  {
   "cell_type": "code",
   "execution_count": 6,
   "id": "891feeae-c354-45d4-920f-992884391ac2",
   "metadata": {},
   "outputs": [],
   "source": [
    "#the predifined keywords of python and used in the programs\n",
    "#variable names\n",
    "#function names"
   ]
  },
  {
   "cell_type": "code",
   "execution_count": 10,
   "id": "d424b2df-a3ea-477c-a28b-bf5476d6afe1",
   "metadata": {},
   "outputs": [],
   "source": [
    "#the mutable and immutables of the programming python"
   ]
  },
  {
   "cell_type": "code",
   "execution_count": 12,
   "id": "23f5128a-3030-478d-9623-6828d1fe5013",
   "metadata": {},
   "outputs": [
    {
     "data": {
      "text/plain": [
       "'praiz'"
      ]
     },
     "execution_count": 12,
     "metadata": {},
     "output_type": "execute_result"
    }
   ],
   "source": [
    "#mutable \n",
    "\n",
    "a=\"praiz\"\n",
    "a"
   ]
  },
  {
   "cell_type": "code",
   "execution_count": 13,
   "id": "e8ea0f1a-9071-40b3-a0b7-0d0305e0a18b",
   "metadata": {},
   "outputs": [
    {
     "data": {
      "text/plain": [
       "12"
      ]
     },
     "execution_count": 13,
     "metadata": {},
     "output_type": "execute_result"
    }
   ],
   "source": [
    "#immutable\n",
    "\n",
    "a=5\n",
    "b=7\n",
    "a+b"
   ]
  },
  {
   "cell_type": "code",
   "execution_count": 18,
   "id": "404842d1-d994-453a-90ec-6488bdffcd76",
   "metadata": {},
   "outputs": [
    {
     "data": {
      "text/plain": [
       "11"
      ]
     },
     "execution_count": 18,
     "metadata": {},
     "output_type": "execute_result"
    }
   ],
   "source": [
    "#the different types of operators\n",
    "#arithmatic operators\n",
    "a=3\n",
    "b=8\n",
    "a+b"
   ]
  },
  {
   "cell_type": "code",
   "execution_count": 16,
   "id": "541eebc9-db39-4d63-9793-f8cd58fe62f5",
   "metadata": {},
   "outputs": [
    {
     "data": {
      "text/plain": [
       "11"
      ]
     },
     "execution_count": 16,
     "metadata": {},
     "output_type": "execute_result"
    }
   ],
   "source": [
    "add = a+b\n",
    "add"
   ]
  },
  {
   "cell_type": "code",
   "execution_count": 17,
   "id": "5b22da15-a90b-4891-ac32-1a34ea7704da",
   "metadata": {},
   "outputs": [],
   "source": [
    "#the types of operators\n",
    "#arithmetic operators\n",
    "#comparition operators\n",
    "#logical operators"
   ]
  },
  {
   "cell_type": "code",
   "execution_count": 20,
   "id": "bbbae9db-e2fd-4dd6-b6ba-4b0743214df1",
   "metadata": {},
   "outputs": [],
   "source": [
    "#the concept of type casting in python with examples\n",
    "#the buillt-in function of changing one data type to another datatype\n",
    "#int()\n",
    "#flot()\n",
    "#str()"
   ]
  },
  {
   "cell_type": "code",
   "execution_count": 42,
   "id": "f0ce1f66-c019-4fc7-a540-c011c989a636",
   "metadata": {},
   "outputs": [
    {
     "data": {
      "text/plain": [
       "int"
      ]
     },
     "execution_count": 42,
     "metadata": {},
     "output_type": "execute_result"
    }
   ],
   "source": [
    "#example\n",
    "\n",
    "a=(7)\n",
    "int"
   ]
  },
  {
   "cell_type": "code",
   "execution_count": 43,
   "id": "a48895be-09b6-4883-884c-60281a47ee67",
   "metadata": {},
   "outputs": [],
   "source": [
    "#contional statement in python\n",
    "#if the work is done early,then it will be easy to observe"
   ]
  },
  {
   "cell_type": "code",
   "execution_count": 44,
   "id": "fb200e35-d510-4809-a7be-f13d3d64e8bf",
   "metadata": {},
   "outputs": [],
   "source": [
    "#example\n",
    "#if true"
   ]
  },
  {
   "cell_type": "code",
   "execution_count": 47,
   "id": "86dd71b0-8327-46e2-ac61-ec35bde246e4",
   "metadata": {},
   "outputs": [
    {
     "name": "stdout",
     "output_type": "stream",
     "text": [
      "conditon is true\n"
     ]
    }
   ],
   "source": [
    "print('conditon is true')"
   ]
  },
  {
   "cell_type": "code",
   "execution_count": 48,
   "id": "a44a4790-cb6b-438d-b79e-ebd4471ba34a",
   "metadata": {},
   "outputs": [
    {
     "name": "stdout",
     "output_type": "stream",
     "text": [
      "condition is false\n"
     ]
    }
   ],
   "source": [
    "#if false\n",
    "print('condition is false')"
   ]
  },
  {
   "cell_type": "code",
   "execution_count": 56,
   "id": "3ca9bb09-3eb7-4e4a-825b-b7a9d4ff7eb2",
   "metadata": {},
   "outputs": [],
   "source": [
    "#the different type of loops and their cases with example\n",
    "#numners\n",
    "#squares\n",
    "#lists"
   ]
  },
  {
   "cell_type": "code",
   "execution_count": 53,
   "id": "ec786611-b811-42fd-a6f7-c4c537d2982e",
   "metadata": {},
   "outputs": [
    {
     "data": {
      "text/plain": [
       "15"
      ]
     },
     "execution_count": 53,
     "metadata": {},
     "output_type": "execute_result"
    }
   ],
   "source": [
    "a=5\n",
    "b=4\n",
    "c=6\n",
    "(a+b+c)"
   ]
  },
  {
   "cell_type": "code",
   "execution_count": 61,
   "id": "794d9794-ac8d-4037-91a7-f245786dc797",
   "metadata": {},
   "outputs": [
    {
     "data": {
      "text/plain": [
       "7"
      ]
     },
     "execution_count": 61,
     "metadata": {},
     "output_type": "execute_result"
    }
   ],
   "source": [
    "a=2\n",
    "b=4\n",
    "c=1\n",
    "(a+b+c)"
   ]
  },
  {
   "cell_type": "code",
   "execution_count": null,
   "id": "05d566e9-fa3a-4c62-a777-b73a66dd8340",
   "metadata": {},
   "outputs": [],
   "source": []
  }
 ],
 "metadata": {
  "kernelspec": {
   "display_name": "Python 3 (ipykernel)",
   "language": "python",
   "name": "python3"
  },
  "language_info": {
   "codemirror_mode": {
    "name": "ipython",
    "version": 3
   },
   "file_extension": ".py",
   "mimetype": "text/x-python",
   "name": "python",
   "nbconvert_exporter": "python",
   "pygments_lexer": "ipython3",
   "version": "3.10.8"
  }
 },
 "nbformat": 4,
 "nbformat_minor": 5
}
